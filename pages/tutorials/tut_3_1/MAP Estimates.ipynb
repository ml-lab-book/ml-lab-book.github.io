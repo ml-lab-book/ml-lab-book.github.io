{
 "cells": [
  {
   "cell_type": "markdown",
   "metadata": {},
   "source": [
    "# MAP ESTIMATES"
   ]
  },
  {
   "cell_type": "markdown",
   "metadata": {},
   "source": [
    "## Priors, Bayes rule and MAP\n",
    "\n",
    "* Last class we dealt with maximising $ \\theta $ wrt $ L(x_1, x_2, ... x_n| \\theta) $ to obtain a point estimate for $ \\theta $ called as the MLE estimate.\n",
    "\n",
    "\n",
    "* Lets use the shorthand $ P(D|\\theta) $ for the likelihood term \n",
    "\n",
    "\n",
    "* Now let's assume that we have some beliefs on the value of $ \\theta $. For example, if you are tossing a coin and you believe that the coin is extremely biased to either heads or tails. If you represent your beliefs in terms of a probability distribution, you get the **prior distribution** on $ \\theta$. Let's call it $ P(\\theta)$\n",
    "\n",
    "\n",
    "* By Bayes' rule we have,\n",
    "\n",
    " $$ P( \\theta | D ) = \\frac{ P ( D | \\theta) P ( \\theta )}{ P( D )} $$\n",
    " \n",
    " This is called the posterior distribution of $ \\theta $\n",
    " \n",
    " \n",
    " \n",
    "* Maximum a posteriori estimate:\n",
    "\n",
    "$$ \\theta_{MAP} = arg max_{\\theta} P(\\theta | D) $$\n",
    "\n",
    "* Compare it to MLE:\n",
    "\n",
    "$$ \\theta_{MLE} = arg max_{\\theta} P( D | \\theta) $$"
   ]
  },
  {
   "cell_type": "markdown",
   "metadata": {},
   "source": [
    "## Hypothesis and Data\n",
    "\n",
    "* **Discrete hypothesis and Discrete data **\n",
    "\n",
    "\n",
    "* ** Continuous hypothesis and Discrete data **\n",
    "\n",
    "Homework (Slides)\n",
    "\n",
    "* Discrete hypothesis and Continuous data\n",
    "\n",
    "\n",
    "* Continuous hypothesis and Continuous data\n"
   ]
  },
  {
   "cell_type": "markdown",
   "metadata": {},
   "source": [
    "### Discrete hypothesis and Discrete data\n",
    "\n",
    "<img src=\"./files/dis_dis.png\" width = 80%/>\n",
    "\n",
    "\n",
    "**What is the MAP here? **\n",
    "\n",
    "**What is the MLE here?**"
   ]
  },
  {
   "cell_type": "markdown",
   "metadata": {},
   "source": [
    "### Continuous hypothesis and Discrete data\n",
    "<img src=\"./files/cont_dis.png\" width=80%/>\n",
    "\n",
    "Find the MAP estimate of $\\theta$"
   ]
  },
  {
   "cell_type": "markdown",
   "metadata": {},
   "source": [
    "### Beta distribution\n",
    "\n",
    "* Let $ X \\sim Beta(\\alpha, \\beta). $ \n",
    "\n",
    " Then $$ P[X=x] = \\frac{x^{\\alpha - 1} (1 - x)^{\\beta - 1} \\Gamma(\\alpha + \\beta)}{\\Gamma(\\alpha) \\Gamma(\\beta)} $$\n",
    " \n",
    " where $$ \\Gamma(x) = \\int_{0}^{∞} t^{x-1} e^{-t} dt $$\n",
    " \n",
    " Remember $ \\Gamma(n) = (n - 1) ! $ for natural number n \n",
    "\n",
    "\n",
    "### Problems:\n",
    "\n",
    "* What is the value of X for which P[X=x] is maximized? What if $ \\alpha = \\beta $?\n",
    "\n",
    "\n",
    "* What is the expected value of X?"
   ]
  },
  {
   "cell_type": "markdown",
   "metadata": {},
   "source": [
    "Check distribution shape\n",
    "\n",
    "$ Beta(1, 1) $ \n",
    "\n",
    "* What happens when alpha increases keeping beta fixed?\n",
    "\n",
    "$ Beta (2, 1) $\n",
    "\n",
    "$ Beta (5, 1) $\n",
    "\n",
    "$ Beta(10, 1) $\n",
    "\n",
    "* When would you use this as a prior?\n",
    "\n",
    "$ Beta(0.5, 0.5) $\n",
    "\n",
    "\n",
    "<a href=\"https://homepage.divms.uiowa.edu/~mbognar/applets/beta.html\"> BETA DISTRIBUTION VISUALIZER </a>"
   ]
  },
  {
   "cell_type": "markdown",
   "metadata": {},
   "source": [
    "### Example:\n",
    "\n",
    "Prior: $ Beta(\\alpha, \\beta) $\n",
    "\n",
    "Observed data: s heads, t tails\n",
    "\n",
    "* Find the posterior.\n",
    "\n",
    "* Find the MAP estimate of $ \\theta $ \n"
   ]
  },
  {
   "cell_type": "markdown",
   "metadata": {},
   "source": [
    "** Why Beta distribution? Conjugate priors **"
   ]
  }
 ],
 "metadata": {
  "kernelspec": {
   "display_name": "Python [conda env:keras_gpu_tensorflow]",
   "language": "python",
   "name": "conda-env-keras_gpu_tensorflow-py"
  },
  "language_info": {
   "codemirror_mode": {
    "name": "ipython",
    "version": 3
   },
   "file_extension": ".py",
   "mimetype": "text/x-python",
   "name": "python",
   "nbconvert_exporter": "python",
   "pygments_lexer": "ipython3",
   "version": "3.6.8"
  },
  "toc": {
   "base_numbering": 1,
   "nav_menu": {},
   "number_sections": true,
   "sideBar": true,
   "skip_h1_title": false,
   "title_cell": "Table of Contents",
   "title_sidebar": "Contents",
   "toc_cell": false,
   "toc_position": {},
   "toc_section_display": true,
   "toc_window_display": false
  }
 },
 "nbformat": 4,
 "nbformat_minor": 2
}
