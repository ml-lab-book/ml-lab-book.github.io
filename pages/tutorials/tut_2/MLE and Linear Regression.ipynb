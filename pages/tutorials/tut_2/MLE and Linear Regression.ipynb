{
 "cells": [
  {
   "cell_type": "markdown",
   "metadata": {},
   "source": [
    "# Last Class:\n",
    "\n",
    "* Probability\n",
    "* Conditional probability\n",
    "* Bayes' rule\n",
    "* Expectation\n",
    "* Variance\n",
    "* Properies of Expectation and Variance.\n",
    "* The murder mystery: <a href=\"http://mbmlbook.com/toc.html\"> MBML </a>\n",
    "* Power log distributions"
   ]
  },
  {
   "cell_type": "markdown",
   "metadata": {},
   "source": [
    "## Power log distributions\n",
    "\n",
    "### Central limit theorem\n",
    "\n",
    "Suppose {X1, X2, …} is a sequence of i.i.d. random variables with $ E[X_i] = \\mu $ and $ Var(X_i) = \\sigma^2 $. Let $ S_n = \\frac{X_1 + X_2 + .... + X_n}{n}$. Then, $ S_n \\to N(\\mu, \\sigma^2 / n) $\n",
    "\n",
    "### Power log distribution\n",
    "\n",
    "$ P[X = x] = C x^{- \\alpha} \\quad \\quad x > x_{min} $\n",
    "\n",
    "where,\n",
    "\n",
    "$ C =  (\\alpha - 1) x_{min}^{(\\alpha - 1)} $ and $ \\alpha > 1 $\n",
    "\n",
    "#### What's weird about Power log distributions?\n",
    "\n",
    "Q1. What happens to expectation when $\\alpha < 2$ ?\n",
    "\n",
    "Q2. What happens to variance when $ \\alpha < 3$ ?"
   ]
  },
  {
   "cell_type": "markdown",
   "metadata": {},
   "source": [
    "<a href=\"./files/Power law.pdf\"> Link to Power law pdf file</a>"
   ]
  },
  {
   "cell_type": "markdown",
   "metadata": {},
   "source": [
    "# Maximum Likelihood Estimation\n",
    "\n",
    "## Intuition:\n",
    "\n",
    "* You are given a biased coin with probability p. You toss the coin a 100 times and observe 80 heads. Guess the value of p.\n",
    "\n",
    "\n",
    "* Mathematically you can formulate the above problem as \n",
    "$$ p^* = argmax_{p} \\; P[ \\# \\; heads = 80] $$\n",
    "\n",
    "\n",
    "* Now, \n",
    "\n",
    "$$ P[ \\# \\; heads = 80] =  p^{80} . (1 - p)^{20} $$\n",
    "\n",
    "\n",
    "* Differentiate wrt p to obtain p = 0.8\n",
    "\n",
    "\n",
    "* This process is called maximum likelihood estimation. $ p ^ * $ is called the maximum likelihood estimate.\n",
    "\n",
    "\n",
    "* We try to find the parameter of the distribution such that the Probability of observed values is maximised."
   ]
  },
  {
   "cell_type": "markdown",
   "metadata": {},
   "source": [
    "### Locate the MLE from the figure\n",
    "\n",
    "<img src=\"./files/MLE image.png\" /> "
   ]
  },
  {
   "cell_type": "markdown",
   "metadata": {},
   "source": [
    "## Exercise problems:\n",
    "\n",
    "* Suppose you conduct a binomial experiment (Remember that a single binomial experiment consists of n iid Bernoulli experiments) with n = 10. Now you observe 7 heads and 3 tails in 10 tosses of the coin. Assume that the data comes from $ Binomial(10, p) $. Find the MLE of p.\n",
    "\n",
    "\n",
    "* Now suppose you conduct three binomial experiments. You observe 7 heads 3 tails in exp 1, 6 heads 4 tails in exp 2, 8 heads 2 tails in exp 3. Again, assume that the data comes from $ Binomial(10, p)$. Find the MLE of p.\n",
    "\n",
    "\n",
    "* Generalise: You conduct $ N $ number of $ Binomial(n, p) $ experiments, where $ n $ is known. You observe $ h_i $ heads in experiment i where i = 1, 2, 3 ... N. Find the MLE estimate of p."
   ]
  },
  {
   "cell_type": "markdown",
   "metadata": {},
   "source": [
    "## What's good about MLE\n",
    "\n",
    "* Intuitive.\n",
    "\n",
    "\n",
    "* Point estimate: makes the math simple.\n",
    "\n",
    "\n",
    "* As the number of samples increase, the estimate gets better. Mathematically, it achieves the Cramer - Rao bound"
   ]
  },
  {
   "cell_type": "markdown",
   "metadata": {},
   "source": [
    "## What's bad about MLE\n",
    "\n",
    "* Point estimate: No knowledge about the confidence in the estimate.\n",
    "\n",
    "\n",
    "* Can result in biased estimates"
   ]
  },
  {
   "cell_type": "code",
   "execution_count": 1,
   "metadata": {},
   "outputs": [
    {
     "data": {
      "image/png": "[encoded data removed]",
      "text/plain": [
       "<Figure size 432x288 with 1 Axes>"
      ]
     },
     "metadata": {},
     "output_type": "display_data"
    },
    {
     "data": {
      "text/plain": [
       "[<matplotlib.lines.Line2D at 0x7fa19b615f60>]"
      ]
     },
     "execution_count": 1,
     "metadata": {},
     "output_type": "execute_result"
    },
    {
     "data": {
      "image/png": "[encoded data removed]",
      "text/plain": [
       "<Figure size 432x288 with 1 Axes>"
      ]
     },
     "metadata": {},
     "output_type": "display_data"
    }
   ],
   "source": [
    "import matplotlib.pyplot as plt\n",
    "%matplotlib inline\n",
    "import numpy as np\n",
    "\n",
    "p = np.arange(0, 1, 1/2000)\n",
    "L = (p**8) * ((1-p)**2)\n",
    "plt.plot(p, L)\n",
    "plt.show()\n",
    "\n",
    "L = (p**800) * ((1-p)**200)\n",
    "plt.plot(p, L)"
   ]
  },
  {
   "cell_type": "markdown",
   "metadata": {},
   "source": [
    "## Bias and Variance of estimators\n",
    "\n",
    "Wikipedia: https://en.wikipedia.org/wiki/Bias_of_an_estimator\n",
    "\n",
    "Definition:\n",
    "\n",
    "Suppose we have a statistical model, parameterized by a real number ''θ'', giving rise to a probability distribution for observed data, \n",
    "$ P_\\theta(X) = P(X\\mid\\theta) $, and a statistic $\\hat\\theta$ which serves as an estimator of θ based on any observed data $x$. That is, we assume that our data follow some unknown distribution $ P(X\\mid\\theta) $ (where ''θ'' is a fixed constant that is part of this distribution, but is unknown), and then we construct some estimator $ \\hat\\theta $ that maps observed data to values that we hope are close to θ. The bias of $ \\hat\\theta $ relative to $ \\theta $ is defined as\n",
    "\n",
    "$ \\operatorname{Bias}_\\theta[\\,\\hat\\theta\\,] = \\operatorname{E}_{X\\mid\\theta}[\\,\\hat{\\theta}\\,]-\\theta = \\operatorname{E}_{X\\mid\\theta}[\\, \\hat\\theta - \\theta \\,], $\n",
    "\n",
    "where $ \\operatorname{E}_{X\\mid\\theta} $ denotes expected value over the distribution $ P(X\\mid\\theta) $, i.e. averaging over all possible observations $ x $. The second equation follows since ''θ'' is measurable with respect to the conditional distribution $ P(X\\mid\\theta) $."
   ]
  },
  {
   "cell_type": "markdown",
   "metadata": {},
   "source": [
    "An estimator is said to be '''unbiased''' if its bias is equal to zero for all values of parameter ''θ''.\n",
    "\n",
    "* Let $ \\hat{\\theta} $ be an estimate for a parameter $ \\theta $.\n",
    "\n",
    "    * Bias: $ E_{X|\\theta}[\\hat{\\theta} - \\theta] =  E_{X|\\theta}[\\hat{\\theta}] - \\theta$\n",
    "\n",
    "    * Variance: $ E_{X|\\theta}[(\\hat{\\theta} - E_{X|\\theta}[\\hat{\\theta}])^2] $\n",
    "\n",
    "* Unbiased estimators: Bias = 0 i.e. $ E_{X|\\theta}[\\hat{\\theta}] = \\theta$"
   ]
  },
  {
   "cell_type": "markdown",
   "metadata": {},
   "source": [
    "### Example\n",
    "\n",
    "* Let $ x_1 , x_2 , . . . , x_n $ be a sample from a normal distribution with parameters $ \\mu $ and $ \\sigma^2 $ . Derive maximum likelihood estimates of $ \\mu $ and $ \\sigma^2 $. \n",
    "\n",
    " [Hint: log transform ]\n",
    " \n",
    " \n",
    "\n",
    "* Find the bias of $ \\mu_{MLE} $.\n",
    "\n",
    "\n",
    "* Find the bias of $ \\sigma^2_{MLE} $."
   ]
  },
  {
   "cell_type": "markdown",
   "metadata": {},
   "source": [
    "## Test your understanding\n",
    "\n",
    "* Let $ x_1 , x_2 , ... , x_n $ be a sample of observations from a Poisson distribution with parameter λ. Find the\n",
    "maximum likelihood estimate of λ in terms of the $ x_i $ and $ n $."
   ]
  },
  {
   "cell_type": "markdown",
   "metadata": {},
   "source": [
    "### MLE: Dice roll\n",
    "\n",
    "#### Lagrange multipliers : <a href=\"https://www.youtube.com/watch?v=yuqB-d5MjZA\"> Khan academy video </a>\n",
    "\n",
    "\n",
    "* Consider the following constrained optimization problem $ maximize \\; \\; f(x, y) = x^2 y $ subject to $ x^2 + y^2 = 1 $.\n",
    "\n",
    "\n",
    "* Intuition:\n",
    "    The contours of $ x^2 y $ and $ g(x, y) = x^2 + y^2 - 1$ are tangent at the optimal value.\n",
    "    And thus, the gradient of the contours (which are normal to them. Why?) are parallel.\n",
    "    Therefore the optimal point is found by solving $$ \\nabla f =  \\lambda \\nabla g    \\quad  (1) $$\n",
    "\n",
    "\n",
    "* Prove that solving $ (1) $ is same as:\n",
    "    $$ \\frac{\\partial}{\\partial\tx} (f - \\lambda g) = 0 $$\n",
    "    $$ \\frac{\\partial}{\\partial\ty} (f - \\lambda g) = 0 $$\n",
    "    $$ \\frac{\\partial}{\\partial\t\\lambda} (f - \\lambda g) = 0 $$"
   ]
  },
  {
   "cell_type": "markdown",
   "metadata": {},
   "source": [
    "### Biased die:\n",
    "\n",
    "$$ P[X = i] = \\theta_{i} \\quad \\quad (2) $$\n",
    "\n",
    "where,\n",
    "$ i = 1, 2, 3, 4, 5, 6 $ and $ \\sum_{i = 1}^{6} \\; \\theta_{i} = 1  $\n",
    "\n",
    "Mathematically efficient way to write (2) is, \n",
    "\n",
    "$$ P[X = x] = \\prod_{i=1}^{6} \\theta_{i} ^ {I(i=x)} $$\n",
    "\n",
    "* Problem: Find the MLE estimates for the parameters $ \\theta_1, \\theta_2, ... \\theta_6 $ of a biased die given that the Number of 1s observed is $ n_1 $, Number of 2s observed is $ n_2 $ and so on."
   ]
  },
  {
   "cell_type": "markdown",
   "metadata": {},
   "source": [
    "## Homework task\n",
    "\n",
    "### Multi-dimensional Gaussian distribution\n",
    "\n",
    "Q1. What is the support of 2D Gaussian distribution?\n",
    "\n",
    "Q2. Write the expression for P[X = (x, y)] for a 2D Gaussian distribution with mean $ \\mu = (\\mu_1, \\mu_2) $ and $ \\sum = [[a_{11}, a_{12}], [a_{21}, a_{22}]] $.\n",
    "\n",
    "Q3. What do the terms $ a_{11}, a_{12}, a_{21}, a_{22} $ represent?\n",
    "\n",
    "Q4. Is the Matrix $ \\sum $ symmetric?\n",
    "\n",
    "Q5. When the Matrix $ \\sum $ is diagonal, list some the properties of the distribution.\n",
    "\n",
    "Q6. Given observations $ x_1, x_2 , .... , x_n$ of an $ N $ dimensional Gaussian distribution with parameters $ \\mu $ and $ \\sum $. Find the MLE estimates for $ \\mu $ and $ \\sum $. (First obtain for N = 2 and then generalize)"
   ]
  },
  {
   "cell_type": "markdown",
   "metadata": {},
   "source": [
    "# Linear Regression"
   ]
  },
  {
   "cell_type": "markdown",
   "metadata": {},
   "source": [
    "### Topics:\n",
    "\n",
    "* The formulation.\n",
    "\n",
    "* Probabilistic Interpretation."
   ]
  },
  {
   "cell_type": "markdown",
   "metadata": {},
   "source": [
    "## Formulation\n",
    "\n",
    "<img src=\"./files/linear_reg.png\" width=30%/>\n",
    "\n",
    "Fit a line whose equation is of the form $ \\hat{Y} = a + b X $\n",
    "\n",
    "Minimise $ L = \\frac{1}{n} \\sum_i d_i^2 = \\frac{1}{n} \\sum_i (Y_i − \\hat{Y}_i )^2 $\n",
    "\n",
    "* Find the expression for $ a^*$ and $b^*$ which optimise $ L $"
   ]
  },
  {
   "cell_type": "markdown",
   "metadata": {},
   "source": [
    "## Probabilistic Interpretation : Why L\n",
    "\n",
    "### Assumptions:\n",
    "\n",
    "* Assume that $$ Y = \\alpha + \\beta X + \\epsilon $$\n",
    "\n",
    "where $$ \\epsilon \\sim N(0, \\sigma^2) $$\n",
    "\n",
    "\n",
    "* Write the expression for P[Y|X].\n",
    "\n",
    "\n",
    "* Find the (conditional) MLE estimates of $ \\alpha $ and $ \\beta $ given n observations $ (x_1, y_1),  (x_2, y_2), ... , (x_n, y_n) $.\n",
    "\n",
    "\n",
    "[Pause after you equate $ \\frac{\\partial}{\\partial \\alpha} LL $ and $ \\frac{\\partial}{\\partial \\beta}LL$ to $ 0 $ ] "
   ]
  },
  {
   "cell_type": "markdown",
   "metadata": {},
   "source": [
    "... To be continued in next class"
   ]
  }
 ],
 "metadata": {
  "kernelspec": {
   "display_name": "Python [conda env:keras_gpu_tensorflow]",
   "language": "python",
   "name": "conda-env-keras_gpu_tensorflow-py"
  },
  "language_info": {
   "codemirror_mode": {
    "name": "ipython",
    "version": 3
   },
   "file_extension": ".py",
   "mimetype": "text/x-python",
   "name": "python",
   "nbconvert_exporter": "python",
   "pygments_lexer": "ipython3",
   "version": "3.6.8"
  },
  "toc": {
   "base_numbering": 1,
   "nav_menu": {},
   "number_sections": true,
   "sideBar": true,
   "skip_h1_title": false,
   "title_cell": "Table of Contents",
   "title_sidebar": "Contents",
   "toc_cell": false,
   "toc_position": {},
   "toc_section_display": true,
   "toc_window_display": false
  }
 },
 "nbformat": 4,
 "nbformat_minor": 2
}
