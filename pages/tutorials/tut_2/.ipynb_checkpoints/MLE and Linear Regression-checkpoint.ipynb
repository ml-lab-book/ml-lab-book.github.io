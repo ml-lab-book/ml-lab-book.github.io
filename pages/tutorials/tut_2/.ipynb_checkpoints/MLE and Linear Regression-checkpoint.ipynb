{
 "cells": [
  {
   "cell_type": "markdown",
   "metadata": {},
   "source": [
    "<style TYPE=\"text/css\">\n",
    "code.has-jax {font: inherit; font-size: 100%; background: inherit; border: inherit;}\n",
    "</style>\n",
    "<script type=\"text/x-mathjax-config\">\n",
    "MathJax.Hub.Config({\n",
    "    tex2jax: {\n",
    "        inlineMath: [['$','$'], ['\\\\(','\\\\)']],\n",
    "        skipTags: ['script', 'noscript', 'style', 'textarea', 'pre'] // removed 'code' entry\n",
    "    }\n",
    "});\n",
    "MathJax.Hub.Queue(function() {\n",
    "    var all = MathJax.Hub.getAllJax(), i;\n",
    "    for(i = 0; i < all.length; i += 1) {\n",
    "        all[i].SourceElement().parentNode.className += ' has-jax';\n",
    "    }\n",
    "});\n",
    "</script>\n",
    "<script type=\"text/javascript\" src=\"http://cdn.mathjax.org/mathjax/latest/MathJax.js?config=TeX-AMS-MML_HTMLorMML\"></script>"
   ]
  },
  {
   "cell_type": "markdown",
   "metadata": {},
   "source": [
    "# Recap:\n",
    "\n",
    "* Probability\n",
    "* Conditional probability\n",
    "* Bayes' rule\n",
    "* Expectation\n",
    "* Variance\n",
    "* Properies of Expectation and Variance.\n",
    "* The murder mystery\n",
    "* Power log distributions"
   ]
  },
  {
   "cell_type": "markdown",
   "metadata": {},
   "source": [
    "## Why are Power log distributions weird?\n",
    "\n",
    "### Central limit theorem\n",
    "\n",
    "Suppose {X1, X2, …} is a sequence of i.i.d. random variables with $ E[X_i] = \\mu $ and $ Var(X_i) = \\sigma^2 $. Let $ S_n = \\frac{X_1 + X_2 + .... + X_n}{n}$. Then, $ S_n -> N(\\mu, \\sigma^2 / n) $\n",
    "\n",
    "### Power log distribution\n",
    "\n",
    "$ P[X = x] = C x^{- \\alpha} \\quad \\quad x > x_{min} $\n",
    "\n",
    "where,\n",
    "\n",
    "$ C =  (\\alpha - 1) x_{min}^{(\\alpha - 1)} $ and $ \\alpha > 1 $\n",
    "\n",
    "#### What's weird about Power log distributions?\n",
    "\n",
    "Q1. What happens to expectation when $\\alpha < 2$ ?\n",
    "\n",
    "Q2. What happens to variance when $ \\alpha < 3$ ?"
   ]
  },
  {
   "cell_type": "markdown",
   "metadata": {},
   "source": [
    "![](Power law.pdf)"
   ]
  },
  {
   "cell_type": "markdown",
   "metadata": {},
   "source": [
    "# Maximum Likelihood Estimation\n",
    "\n",
    "## Intuition:\n",
    "\n",
    "* You are given a biased coin with probability p. You toss the coin a 100 times and observe 80 heads. Guess the value of p.\n",
    "\n",
    "\n",
    "* Mathematically you can formulate the above problem as \n",
    "$$ p^* = argmax_{p} \\; P[ \\# \\; heads = 80] $$\n",
    "\n",
    "\n",
    "* Now, \n",
    "\n",
    "$$ P[ \\# \\; heads = 80] =  p^{80} . (1 - p)^{20} $$\n",
    "\n",
    "\n",
    "* Differentiate wrt p to obtain p = 0.8\n",
    "\n",
    "\n",
    "* This process is called maximum likelihood estimation\n",
    "\n",
    "\n",
    "* We try to find the parameter of the distribution such that the Probability of observed values is maximised."
   ]
  },
  {
   "cell_type": "markdown",
   "metadata": {},
   "source": [
    "## Exercises:\n",
    "\n",
    "* You have o"
   ]
  }
 ],
 "metadata": {
  "kernelspec": {
   "display_name": "Python [conda env:keras_gpu_tensorflow]",
   "language": "python",
   "name": "conda-env-keras_gpu_tensorflow-py"
  },
  "language_info": {
   "codemirror_mode": {
    "name": "ipython",
    "version": 3
   },
   "file_extension": ".py",
   "mimetype": "text/x-python",
   "name": "python",
   "nbconvert_exporter": "python",
   "pygments_lexer": "ipython3",
   "version": "3.6.6"
  }
 },
 "nbformat": 4,
 "nbformat_minor": 2
}
